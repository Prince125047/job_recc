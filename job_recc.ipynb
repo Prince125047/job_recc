{
  "nbformat": 4,
  "nbformat_minor": 0,
  "metadata": {
    "colab": {
      "provenance": [],
      "authorship_tag": "ABX9TyNTTzmjkrq5Y1Lp6rV1omHx",
      "include_colab_link": true
    },
    "kernelspec": {
      "name": "python3",
      "display_name": "Python 3"
    },
    "language_info": {
      "name": "python"
    }
  },
  "cells": [
    {
      "cell_type": "markdown",
      "metadata": {
        "id": "view-in-github",
        "colab_type": "text"
      },
      "source": [
        "<a href=\"https://colab.research.google.com/github/Prince125047/job_recc/blob/main/job_recc.ipynb\" target=\"_parent\"><img src=\"https://colab.research.google.com/assets/colab-badge.svg\" alt=\"Open In Colab\"/></a>"
      ]
    },
    {
      "cell_type": "code",
      "execution_count": 1,
      "metadata": {
        "colab": {
          "base_uri": "https://localhost:8080/"
        },
        "id": "uTB0RfZZnIe8",
        "outputId": "34cb151c-b9a2-4336-a7c3-e5fb5ba53204"
      },
      "outputs": [
        {
          "output_type": "stream",
          "name": "stderr",
          "text": [
            "WARNING:absl:Compiled the loaded model, but the compiled metrics have yet to be built. `model.compile_metrics` will be empty until you train or evaluate the model.\n"
          ]
        }
      ],
      "source": [
        "import joblib\n",
        "import numpy as np\n",
        "import pandas as pd\n",
        "import tensorflow as tf\n",
        "\n",
        "# Load TF-IDF Vectorizer\n",
        "vectorizer = joblib.load('/content/tfidf_vectorizer (1).pkl')\n",
        "\n",
        "# Load Naïve Bayes Model\n",
        "naive_bayes_model = joblib.load('/content/Naive Bayes.pkl')\n",
        "\n",
        "# Load Student Model\n",
        "student_model = tf.keras.models.load_model('/content/student_model.h5')\n",
        "\n",
        "# Load Dataset\n",
        "df = pd.read_csv('/content/final_dataset (1).csv')"
      ]
    },
    {
      "cell_type": "code",
      "source": [
        "def recommend_jobs(user_skills):\n",
        "    \"\"\"Recommend jobs using Naïve Bayes without LabelEncoder.\"\"\"\n",
        "    user_vectorized = vectorizer.transform([user_skills])\n",
        "\n",
        "    # Predict job index\n",
        "    predicted_index = naive_bayes_model.predict(user_vectorized)[0]\n",
        "\n",
        "    # Get job name directly from dataset\n",
        "    unique_jobs = df['Job'].unique()  # Get unique job names\n",
        "    predicted_job = unique_jobs[predicted_index]  # Map prediction to job title\n",
        "\n",
        "    print(f\"Recommended Job: {predicted_job}\")\n",
        "    return predicted_job"
      ],
      "metadata": {
        "id": "A4ARIKXmn9ch"
      },
      "execution_count": 2,
      "outputs": []
    },
    {
      "cell_type": "code",
      "source": [
        "def find_missing_skills(job, user_skills):\n",
        "    \"\"\"Find missing skills based on job requirements.\"\"\"\n",
        "    job_skills_list = df[df[\"Job\"] == job][\"Skills\"].values\n",
        "\n",
        "    if len(job_skills_list) == 0:\n",
        "        print(\"Job not found in dataset.\")\n",
        "        return []\n",
        "\n",
        "    job_skills = set(job_skills_list[0].split(\", \"))  # Convert to set\n",
        "    user_skills_set = set(user_skills.split(\",\"))  # Convert user input\n",
        "\n",
        "    missing_skills = job_skills - user_skills_set\n",
        "    return list(missing_skills)"
      ],
      "metadata": {
        "id": "eQITfCS9oHFq"
      },
      "execution_count": 3,
      "outputs": []
    },
    {
      "cell_type": "code",
      "source": [
        "# Example user input\n",
        "user_input_skills = \"HTML,CSS, Java\"\n",
        "\n",
        "# Get job recommendation\n",
        "recommended_job = recommend_jobs(user_input_skills)\n",
        "\n",
        "# Identify missing skills\n",
        "missing_skills = find_missing_skills(recommended_job, user_input_skills)\n",
        "\n",
        "print(f\"Missing Skills for {recommended_job}: {missing_skills}\")"
      ],
      "metadata": {
        "colab": {
          "base_uri": "https://localhost:8080/"
        },
        "id": "OhkTto7xoPse",
        "outputId": "ea67bfce-b002-43e4-9aa7-46727d201e59"
      },
      "execution_count": 4,
      "outputs": [
        {
          "output_type": "stream",
          "name": "stdout",
          "text": [
            "Recommended Job: Frontend Developer\n",
            "Missing Skills for Frontend Developer: ['React', 'Angular', 'JavaScript', 'Vue.js']\n"
          ]
        }
      ]
    }
  ]
}